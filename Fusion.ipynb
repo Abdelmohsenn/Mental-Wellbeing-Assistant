{
 "cells": [
  {
   "cell_type": "code",
   "execution_count": 96,
   "id": "29dfad3a",
   "metadata": {},
   "outputs": [],
   "source": [
    "import matplotlib.pyplot as plt\n",
    "import tensorflow as tf\n",
    "import cv2\n",
    "import numpy as np\n",
    "import random\n",
    "import os\n",
    "from tensorflow.keras.preprocessing import image\n",
    "from tensorflow.keras.preprocessing.image import ImageDataGenerator\n",
    "from tensorflow.keras.models import load_model\n",
    "from transformers import AutoTokenizer, AutoModelForSequenceClassification\n",
    "import torch\n",
    "from transformers import AutoTokenizer, AutoModelForSequenceClassification\n",
    "from torch.utils.data import DataLoader, TensorDataset\n",
    "from sklearn.model_selection import train_test_split\n",
    "from sklearn.metrics import accuracy_score, precision_recall_fscore_support\n",
    "import pandas as pd\n",
    "\n",
    "\n"
   ]
  },
  {
   "cell_type": "code",
   "execution_count": null,
   "id": "8210e47b",
   "metadata": {},
   "outputs": [
    {
     "name": "stderr",
     "output_type": "stream",
     "text": [
      "/tmp/ipykernel_2285046/477453432.py:6: FutureWarning: You are using `torch.load` with `weights_only=False` (the current default value), which uses the default pickle module implicitly. It is possible to construct malicious pickle data which will execute arbitrary code during unpickling (See https://github.com/pytorch/pytorch/blob/main/SECURITY.md#untrusted-models for more details). In a future release, the default value for `weights_only` will be flipped to `True`. This limits the functions that could be executed during unpickling. Arbitrary objects will no longer be allowed to be loaded via this mode unless they are explicitly allowlisted by the user via `torch.serialization.add_safe_globals`. We recommend you start setting `weights_only=True` for any use case where you don't have full control of the loaded file. Please open an issue on GitHub for any issues related to this experimental feature.\n",
      "  textModel.load_state_dict(torch.load(\"Weights/trained_emotion_text_classifier_3.pth\"))\n"
     ]
    }
   ],
   "source": [
    "FER2013 = load_model('Weights/FER2013_BestYet.keras')\n",
    "AffectNET = load_model('Weights/AffectNet_Final.keras')\n",
    "SER = load_model('Weights/best_weights.keras')\n",
    "tokenizer = AutoTokenizer.from_pretrained(\"michellejieli/emotion_text_classifier\")\n",
    "textModel = AutoModelForSequenceClassification.from_pretrained(\"michellejieli/emotion_text_classifier\")\n",
    "textModel.load_state_dict(torch.load(\"Weights/trained_emotion_text_classifier_3.pth\"))\n",
    "emotionMapping = {'0': 'Anger','1': 'Fear','2': 'Happiness', '3': 'Sadness', '4': 'Surprise', '5': 'Neutral'}\n",
    "Textemotion_labels = [\"Sadness\", \"Happiness\", \"Neutral\", \"Anger\", \"Fear\", \"Surprise\"]\n",
    "\n"
   ]
  },
  {
   "cell_type": "code",
   "execution_count": 98,
   "id": "12e9a6eb",
   "metadata": {},
   "outputs": [
    {
     "name": "stdout",
     "output_type": "stream",
     "text": [
      "SER input shape:  (None, 335, 50)\n",
      "FER2013 input shape:  (None, 48, 48, 1)\n",
      "AffectNET input shape:  (None, 96, 96, 3)\n"
     ]
    },
    {
     "data": {
      "text/plain": [
       "RobertaForSequenceClassification(\n",
       "  (roberta): RobertaModel(\n",
       "    (embeddings): RobertaEmbeddings(\n",
       "      (word_embeddings): Embedding(50265, 768, padding_idx=1)\n",
       "      (position_embeddings): Embedding(514, 768, padding_idx=1)\n",
       "      (token_type_embeddings): Embedding(1, 768)\n",
       "      (LayerNorm): LayerNorm((768,), eps=1e-05, elementwise_affine=True)\n",
       "      (dropout): Dropout(p=0.1, inplace=False)\n",
       "    )\n",
       "    (encoder): RobertaEncoder(\n",
       "      (layer): ModuleList(\n",
       "        (0-5): 6 x RobertaLayer(\n",
       "          (attention): RobertaAttention(\n",
       "            (self): RobertaSdpaSelfAttention(\n",
       "              (query): Linear(in_features=768, out_features=768, bias=True)\n",
       "              (key): Linear(in_features=768, out_features=768, bias=True)\n",
       "              (value): Linear(in_features=768, out_features=768, bias=True)\n",
       "              (dropout): Dropout(p=0.1, inplace=False)\n",
       "            )\n",
       "            (output): RobertaSelfOutput(\n",
       "              (dense): Linear(in_features=768, out_features=768, bias=True)\n",
       "              (LayerNorm): LayerNorm((768,), eps=1e-05, elementwise_affine=True)\n",
       "              (dropout): Dropout(p=0.1, inplace=False)\n",
       "            )\n",
       "          )\n",
       "          (intermediate): RobertaIntermediate(\n",
       "            (dense): Linear(in_features=768, out_features=3072, bias=True)\n",
       "            (intermediate_act_fn): GELUActivation()\n",
       "          )\n",
       "          (output): RobertaOutput(\n",
       "            (dense): Linear(in_features=3072, out_features=768, bias=True)\n",
       "            (LayerNorm): LayerNorm((768,), eps=1e-05, elementwise_affine=True)\n",
       "            (dropout): Dropout(p=0.1, inplace=False)\n",
       "          )\n",
       "        )\n",
       "      )\n",
       "    )\n",
       "  )\n",
       "  (classifier): RobertaClassificationHead(\n",
       "    (dense): Linear(in_features=768, out_features=768, bias=True)\n",
       "    (dropout): Dropout(p=0.1, inplace=False)\n",
       "    (out_proj): Linear(in_features=768, out_features=7, bias=True)\n",
       "  )\n",
       ")"
      ]
     },
     "execution_count": 98,
     "metadata": {},
     "output_type": "execute_result"
    }
   ],
   "source": [
    "print('SER input shape: ',SER.input_shape)\n",
    "print('FER2013 input shape: ',FER2013.input_shape)\n",
    "print('AffectNET input shape: ',AffectNET.input_shape)\n",
    "textModel.eval()"
   ]
  },
  {
   "cell_type": "code",
   "execution_count": 142,
   "id": "376ed49e",
   "metadata": {},
   "outputs": [
    {
     "name": "stdout",
     "output_type": "stream",
     "text": [
      "Mapped label indices: {0: 3, 1: 2, 2: 5, 3: 0, 4: 1, 5: 4}\n"
     ]
    }
   ],
   "source": [
    "reverse_mapping = {v: k for k, v in emotionMapping.items()}\n",
    "\n",
    "TextClasifiedLabels = {}\n",
    "for i, label in enumerate(Textemotion_labels):\n",
    "    if label in reverse_mapping:\n",
    "        TextClasifiedLabels[i] = int(reverse_mapping[label])  # map old index to new index\n",
    "\n",
    "print(\"Mapped label indices:\", TextClasifiedLabels)"
   ]
  },
  {
   "cell_type": "code",
   "execution_count": 143,
   "id": "3ffa6b72",
   "metadata": {},
   "outputs": [],
   "source": [
    "def predict_emotion(model, text):\n",
    "\n",
    "    inputs = tokenizer(text, return_tensors=\"pt\", padding=True, truncation=True)\n",
    "\n",
    "    with torch.no_grad():\n",
    "        outputs = model(**inputs)\n",
    "        logits = outputs.logits\n",
    "        probs = torch.nn.functional.softmax(logits, dim=1)\n",
    "        predicted_class = torch.argmax(probs, dim=1).item()\n",
    "\n",
    "    predicted_emotion = Textemotion_labels[predicted_class]\n",
    "    return predicted_emotion,predicted_class, probs.numpy()\n"
   ]
  },
  {
   "cell_type": "code",
   "execution_count": 119,
   "id": "eafadfbc",
   "metadata": {},
   "outputs": [],
   "source": [
    "def fer2013inputshape(img):\n",
    "    img = cv2.resize(img, (48, 48))\n",
    "    img = cv2.cvtColor(img, cv2.COLOR_BGR2GRAY)\n",
    "    img = np.expand_dims(img, axis=-1)\n",
    "    img = np.expand_dims(img, axis=0)\n",
    "    return img"
   ]
  },
  {
   "cell_type": "code",
   "execution_count": 120,
   "id": "fa3450ee",
   "metadata": {},
   "outputs": [],
   "source": [
    "def AffectNetinputshape(img):\n",
    "    img = cv2.resize(img, (96, 96))\n",
    "    img = cv2.cvtColor(img, cv2.COLOR_BGR2RGB)\n",
    "    img = np.expand_dims(img, axis=-1)\n",
    "    img = np.expand_dims(img, axis=0)\n",
    "    return img"
   ]
  },
  {
   "cell_type": "code",
   "execution_count": 121,
   "id": "3f7332d3",
   "metadata": {},
   "outputs": [],
   "source": [
    "#SER input shape:  (None, 335, 50)\n",
    "def SERinputshape(wav):\n",
    "    #wav = wav[0:335]\n",
    "    wav = np.pad(wav, (0, 335-len(wav)), 'constant', constant_values=(0, 0))\n",
    "    wav = np.expand_dims(wav, axis=-1)\n",
    "    wav = np.expand_dims(wav, axis=0)\n",
    "    return wav\n",
    "\n",
    "    "
   ]
  },
  {
   "cell_type": "code",
   "execution_count": 122,
   "id": "aeffc683",
   "metadata": {},
   "outputs": [],
   "source": [
    "img = cv2.imread(\"/home/group02-f24/Desktop/SadBaby.jpg\")\n",
    "img = img.astype('float32') / 255.0  # Normalize if needed"
   ]
  },
  {
   "cell_type": "code",
   "execution_count": 123,
   "id": "08586862",
   "metadata": {},
   "outputs": [],
   "source": [
    "FER2013img = fer2013inputshape(img)\n",
    "AffectNETimg = AffectNetinputshape(img)"
   ]
  },
  {
   "cell_type": "markdown",
   "id": "36b7031c",
   "metadata": {},
   "source": [
    "### RAW PREDICTIONS"
   ]
  },
  {
   "cell_type": "code",
   "execution_count": 158,
   "id": "b5bdea57",
   "metadata": {},
   "outputs": [
    {
     "name": "stdout",
     "output_type": "stream",
     "text": [
      "\u001b[1m1/1\u001b[0m \u001b[32m━━━━━━━━━━━━━━━━━━━━\u001b[0m\u001b[37m\u001b[0m \u001b[1m0s\u001b[0m 14ms/step\n",
      "\u001b[1m1/1\u001b[0m \u001b[32m━━━━━━━━━━━━━━━━━━━━\u001b[0m\u001b[37m\u001b[0m \u001b[1m0s\u001b[0m 16ms/step\n",
      "FER2013 prediction:  [[0.44925573 0.09617763 0.18659915 0.01830562 0.0162384  0.13342343]]\n",
      "AffectNET prediction:  [[0.03346886 0.17315489 0.01385948 0.62941283 0.12246295 0.12764111]]\n",
      "Text prediction:  [4.0775325e-04 8.8411989e-04 5.5360800e-04 7.9721123e-01 6.8269053e-04\n",
      " 2.6062629e-04]\n"
     ]
    }
   ],
   "source": [
    "FER2013pred = FER2013.predict(FER2013img)\n",
    "AffectNETpred = AffectNET.predict(AffectNETimg)\n",
    "emotion, predclass,probs = predict_emotion(textModel,\"I am so devastated!\")\n",
    "\n",
    "AffectNETpred = 1.1*AffectNETpred\n",
    "FER2013pred = 0.9*FER2013pred\n",
    "probs = 0.8 * probs[0, :6]\n",
    "\n",
    "reordered_preds = np.zeros_like(probs)\n",
    "\n",
    "for old_idx, new_idx in TextClasifiedLabels.items():\n",
    "    reordered_preds[new_idx] = probs[old_idx]\n",
    "\n",
    "probs = reordered_preds\n",
    "concPred = FER2013pred + AffectNETpred + probs\n",
    "\n",
    "print('FER2013 prediction: ',FER2013pred)\n",
    "print('AffectNET prediction: ',AffectNETpred)\n",
    "print('Text prediction: ',probs)\n"
   ]
  },
  {
   "cell_type": "markdown",
   "id": "2b0f1b7c",
   "metadata": {},
   "source": [
    "### Normalized PREDICTIONS"
   ]
  },
  {
   "cell_type": "code",
   "execution_count": 159,
   "id": "2827e602",
   "metadata": {},
   "outputs": [
    {
     "name": "stdout",
     "output_type": "stream",
     "text": [
      "Text Classified Emotion Sadness\n",
      "FER2013 prediction:  Anger\n",
      "AffectNET prediction:  Sadness\n"
     ]
    }
   ],
   "source": [
    "FER2013pred = np.argmax(FER2013pred, axis=1)\n",
    "AffectNETpred = np.argmax(AffectNETpred, axis=1)\n",
    "print('Text Classified Emotion',emotionMapping[str(TextClasifiedLabels[predclass])])\n",
    "print('FER2013 prediction: ',emotionMapping[str(FER2013pred[0])])\n",
    "print('AffectNET prediction: ',emotionMapping[str(AffectNETpred[0])])"
   ]
  },
  {
   "cell_type": "markdown",
   "id": "60949366",
   "metadata": {},
   "source": [
    "### Concatenated Predictions"
   ]
  },
  {
   "cell_type": "code",
   "execution_count": 160,
   "id": "6cc275d0",
   "metadata": {},
   "outputs": [
    {
     "name": "stdout",
     "output_type": "stream",
     "text": [
      "[3]\n",
      "FER2013 prediction:  Sadness\n"
     ]
    }
   ],
   "source": [
    "finalPrediction = np.argmax(concPred, axis=1)\n",
    "print(finalPrediction)\n",
    "print('FER2013 prediction: ',emotionMapping[str(finalPrediction[0])])\n"
   ]
  },
  {
   "cell_type": "code",
   "execution_count": null,
   "id": "163cd099",
   "metadata": {},
   "outputs": [],
   "source": []
  }
 ],
 "metadata": {
  "kernelspec": {
   "display_name": "base",
   "language": "python",
   "name": "python3"
  },
  "language_info": {
   "codemirror_mode": {
    "name": "ipython",
    "version": 3
   },
   "file_extension": ".py",
   "mimetype": "text/x-python",
   "name": "python",
   "nbconvert_exporter": "python",
   "pygments_lexer": "ipython3",
   "version": "3.12.4"
  }
 },
 "nbformat": 4,
 "nbformat_minor": 5
}
