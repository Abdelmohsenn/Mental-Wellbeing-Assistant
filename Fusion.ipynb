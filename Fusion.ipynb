{
 "cells": [
  {
   "cell_type": "code",
   "execution_count": 123,
   "id": "29dfad3a",
   "metadata": {},
   "outputs": [],
   "source": [
    "import matplotlib.pyplot as plt\n",
    "import tensorflow as tf\n",
    "import cv2\n",
    "import numpy as np\n",
    "import random\n",
    "import os\n",
    "from tensorflow.keras.preprocessing import image\n",
    "from tensorflow.keras.preprocessing.image import ImageDataGenerator\n",
    "from tensorflow.keras.models import load_model\n",
    "from transformers import AutoTokenizer, AutoModelForSequenceClassification\n",
    "\n",
    "tokenizer = AutoTokenizer.from_pretrained(\"michellejieli/emotion_text_classifier\")\n",
    "model = AutoModelForSequenceClassification.from_pretrained(\"michellejieli/emotion_text_classifier\")\n"
   ]
  },
  {
   "cell_type": "code",
   "execution_count": 134,
   "id": "8210e47b",
   "metadata": {},
   "outputs": [],
   "source": [
    "FER2013 = load_model('FER2013_BestYet.keras')\n",
    "AffectNET = load_model('AffectNet_Final.keras')\n",
    "SER = load_model('best_weights.keras')\n",
    "emotionMapping = {'0': 'anger','1': 'fear','2': 'happy', '3': 'sad', '4': 'surprise', '5': 'neutral'}\n"
   ]
  },
  {
   "cell_type": "code",
   "execution_count": 135,
   "id": "12e9a6eb",
   "metadata": {},
   "outputs": [
    {
     "name": "stdout",
     "output_type": "stream",
     "text": [
      "SER input shape:  (None, 335, 50)\n",
      "FER2013 input shape:  (None, 48, 48, 1)\n",
      "AffectNET input shape:  (None, 96, 96, 3)\n"
     ]
    }
   ],
   "source": [
    "print('SER input shape: ',SER.input_shape)\n",
    "print('FER2013 input shape: ',FER2013.input_shape)\n",
    "print('AffectNET input shape: ',AffectNET.input_shape)\n"
   ]
  },
  {
   "cell_type": "code",
   "execution_count": 136,
   "id": "eafadfbc",
   "metadata": {},
   "outputs": [],
   "source": [
    "def fer2013inputshape(img):\n",
    "    img = cv2.resize(img, (48, 48))\n",
    "    img = cv2.cvtColor(img, cv2.COLOR_BGR2GRAY)\n",
    "    img = np.expand_dims(img, axis=-1)\n",
    "    img = np.expand_dims(img, axis=0)\n",
    "    return img"
   ]
  },
  {
   "cell_type": "code",
   "execution_count": 137,
   "id": "fa3450ee",
   "metadata": {},
   "outputs": [],
   "source": [
    "def AffectNetinputshape(img):\n",
    "    img = cv2.resize(img, (96, 96))\n",
    "    img = cv2.cvtColor(img, cv2.COLOR_BGR2RGB)\n",
    "    img = np.expand_dims(img, axis=-1)\n",
    "    img = np.expand_dims(img, axis=0)\n",
    "    return img"
   ]
  },
  {
   "cell_type": "code",
   "execution_count": 256,
   "id": "3f7332d3",
   "metadata": {},
   "outputs": [],
   "source": [
    "#SER input shape:  (None, 335, 50)\n",
    "def SERinputshape(wav):\n",
    "    #wav = wav[0:335]\n",
    "    wav = np.pad(wav, (0, 335-len(wav)), 'constant', constant_values=(0, 0))\n",
    "    wav = np.expand_dims(wav, axis=-1)\n",
    "    wav = np.expand_dims(wav, axis=0)\n",
    "    return wav\n",
    "\n",
    "    "
   ]
  },
  {
   "cell_type": "code",
   "execution_count": 278,
   "id": "aeffc683",
   "metadata": {},
   "outputs": [],
   "source": [
    "img = cv2.imread(\"/home/group02-f24/Desktop/SadBaby.jpg\")\n",
    "img = img.astype('float32') / 255.0  # Normalize if needed"
   ]
  },
  {
   "cell_type": "code",
   "execution_count": 279,
   "id": "08586862",
   "metadata": {},
   "outputs": [],
   "source": [
    "FER2013img = fer2013inputshape(img)\n",
    "AffectNETimg = AffectNetinputshape(img)"
   ]
  },
  {
   "cell_type": "markdown",
   "id": "36b7031c",
   "metadata": {},
   "source": [
    "### RAW PREDICTIONS"
   ]
  },
  {
   "cell_type": "code",
   "execution_count": null,
   "id": "b5bdea57",
   "metadata": {},
   "outputs": [
    {
     "name": "stdout",
     "output_type": "stream",
     "text": [
      "\u001b[1m1/1\u001b[0m \u001b[32m━━━━━━━━━━━━━━━━━━━━\u001b[0m\u001b[37m\u001b[0m \u001b[1m0s\u001b[0m 14ms/step\n",
      "\u001b[1m1/1\u001b[0m \u001b[32m━━━━━━━━━━━━━━━━━━━━\u001b[0m\u001b[37m\u001b[0m \u001b[1m0s\u001b[0m 13ms/step\n",
      "FER2013 prediction:  [[0.49917305 0.10686404 0.20733239 0.02033958 0.01804267 0.14824827]]\n",
      "AffectNET prediction:  [[0.03042624 0.15741353 0.01259953 0.57219344 0.11132995 0.11603738]]\n"
     ]
    }
   ],
   "source": [
    "FER2013pred = FER2013.predict(FER2013img)\n",
    "AffectNETpred = AffectNET.predict(AffectNETimg)\n",
    "AffectNETpred = 1.1*AffectNETpred\n",
    "FER2013pred = 0.9*FER2013pred\n",
    "concPred = FER2013pred + AffectNETpred\n",
    "print('FER2013 prediction: ',FER2013pred)\n",
    "print('AffectNET prediction: ',AffectNETpred)\n"
   ]
  },
  {
   "cell_type": "markdown",
   "id": "2b0f1b7c",
   "metadata": {},
   "source": [
    "### Normalized PREDICTIONS"
   ]
  },
  {
   "cell_type": "code",
   "execution_count": 284,
   "id": "2827e602",
   "metadata": {},
   "outputs": [
    {
     "name": "stdout",
     "output_type": "stream",
     "text": [
      "FER2013 prediction:  anger\n",
      "AffectNET prediction:  sad\n"
     ]
    }
   ],
   "source": [
    "FER2013pred = np.argmax(FER2013pred, axis=1)\n",
    "AffectNETpred = np.argmax(AffectNETpred, axis=1)\n",
    "print('FER2013 prediction: ',emotionMapping[str(FER2013pred[0])])\n",
    "print('AffectNET prediction: ',emotionMapping[str(AffectNETpred[0])])"
   ]
  },
  {
   "cell_type": "markdown",
   "id": "60949366",
   "metadata": {},
   "source": [
    "### Concatenated Predictions"
   ]
  },
  {
   "cell_type": "code",
   "execution_count": 285,
   "id": "6cc275d0",
   "metadata": {},
   "outputs": [
    {
     "name": "stdout",
     "output_type": "stream",
     "text": [
      "FER2013 prediction:  sad\n"
     ]
    }
   ],
   "source": [
    "finalPrediction = np.argmax(concPred, axis=1)\n",
    "print('FER2013 prediction: ',emotionMapping[str(finalPrediction[0])])\n"
   ]
  },
  {
   "cell_type": "code",
   "execution_count": null,
   "id": "163cd099",
   "metadata": {},
   "outputs": [],
   "source": []
  }
 ],
 "metadata": {
  "kernelspec": {
   "display_name": "base",
   "language": "python",
   "name": "python3"
  },
  "language_info": {
   "codemirror_mode": {
    "name": "ipython",
    "version": 3
   },
   "file_extension": ".py",
   "mimetype": "text/x-python",
   "name": "python",
   "nbconvert_exporter": "python",
   "pygments_lexer": "ipython3",
   "version": "3.12.4"
  }
 },
 "nbformat": 4,
 "nbformat_minor": 5
}
