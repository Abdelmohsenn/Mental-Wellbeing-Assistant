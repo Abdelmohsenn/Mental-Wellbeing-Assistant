{
 "cells": [
  {
   "cell_type": "code",
   "execution_count": 77,
   "id": "29dfad3a",
   "metadata": {},
   "outputs": [],
   "source": [
    "import matplotlib.pyplot as plt\n",
    "import tensorflow as tf\n",
    "import cv2\n",
    "import numpy as np\n",
    "import random\n",
    "import os\n",
    "from tensorflow.keras.preprocessing import image\n",
    "from tensorflow.keras.preprocessing.image import ImageDataGenerator\n",
    "from tensorflow.keras.models import load_model\n",
    "from transformers import AutoTokenizer, AutoModelForSequenceClassification\n",
    "import torch\n",
    "from transformers import AutoTokenizer, AutoModelForSequenceClassification\n",
    "from torch.utils.data import DataLoader, TensorDataset\n",
    "from sklearn.model_selection import train_test_split\n",
    "from sklearn.metrics import accuracy_score, precision_recall_fscore_support\n",
    "import pandas as pd\n",
    "from json_tricks import dump, load\n",
    "from pydub import AudioSegment, effects\n",
    "import librosa\n",
    "import noisereduce as nr\n",
    "import tensorflow as tf\n",
    "import keras\n",
    "import sklearn \n",
    "import librosa\n",
    "import time\n",
    "import noisereduce as nr  # Import the noise reduction library"
   ]
  },
  {
   "cell_type": "markdown",
   "id": "4a2d623d",
   "metadata": {},
   "source": [
    "## LOADING MODELS"
   ]
  },
  {
   "cell_type": "code",
   "execution_count": 195,
   "id": "8210e47b",
   "metadata": {},
   "outputs": [
    {
     "name": "stderr",
     "output_type": "stream",
     "text": [
      "/tmp/ipykernel_2295885/4221116780.py:7: FutureWarning: You are using `torch.load` with `weights_only=False` (the current default value), which uses the default pickle module implicitly. It is possible to construct malicious pickle data which will execute arbitrary code during unpickling (See https://github.com/pytorch/pytorch/blob/main/SECURITY.md#untrusted-models for more details). In a future release, the default value for `weights_only` will be flipped to `True`. This limits the functions that could be executed during unpickling. Arbitrary objects will no longer be allowed to be loaded via this mode unless they are explicitly allowlisted by the user via `torch.serialization.add_safe_globals`. We recommend you start setting `weights_only=True` for any use case where you don't have full control of the loaded file. Please open an issue on GitHub for any issues related to this experimental feature.\n",
      "  textModel.load_state_dict(torch.load(\"Weights/trained_emotion_text_classifier_3.pth\"))\n"
     ]
    },
    {
     "data": {
      "text/plain": [
       "<All keys matched successfully>"
      ]
     },
     "execution_count": 195,
     "metadata": {},
     "output_type": "execute_result"
    }
   ],
   "source": [
    "FER2013 = load_model('Weights/FER2013_BestYet.keras')\n",
    "AffectNET = load_model('Weights/AffectNet_Final.keras')\n",
    "SER = load_model('Weights/best_weights.keras')\n",
    "\n",
    "tokenizer = AutoTokenizer.from_pretrained(\"michellejieli/emotion_text_classifier\")\n",
    "textModel = AutoModelForSequenceClassification.from_pretrained(\"michellejieli/emotion_text_classifier\")\n",
    "textModel.load_state_dict(torch.load(\"Weights/trained_emotion_text_classifier_3.pth\"))"
   ]
  },
  {
   "cell_type": "markdown",
   "id": "32a7479f",
   "metadata": {},
   "source": [
    "## Inputs"
   ]
  },
  {
   "cell_type": "code",
   "execution_count": 196,
   "id": "fde0a933",
   "metadata": {},
   "outputs": [],
   "source": [
    "voicePath = \"/home/group02-f24/Documents/Zoghby/Audio/TESS/TESS Toronto emotional speech set data/YAF_sad/YAF_death_sad.wav\"\n",
    "img = cv2.imread(\"/home/group02-f24/Desktop/SadBaby.jpg\")\n",
    "img = img.astype('float32') / 255.0  # Normalize if needed\n",
    "textInput = \"I am so devastated!\""
   ]
  },
  {
   "cell_type": "markdown",
   "id": "1b73181b",
   "metadata": {},
   "source": [
    "#### MAPPING"
   ]
  },
  {
   "cell_type": "code",
   "execution_count": 197,
   "id": "0ef27eb8",
   "metadata": {},
   "outputs": [
    {
     "name": "stdout",
     "output_type": "stream",
     "text": [
      "Mapped Text label indices: {0: 3, 1: 2, 2: 5, 3: 0, 4: 1, 5: 4}\n",
      "Mapped SER label indices: {0: 5, 2: 2, 3: 3, 4: 0, 5: 1, 7: 4}\n"
     ]
    }
   ],
   "source": [
    "emotionMapping = {'0': 'Anger','1': 'Fear','2': 'Happiness', '3': 'Sadness', '4': 'Surprise', '5': 'Neutral'}\n",
    "Textemotion_labels = [\"Sadness\", \"Happiness\", \"Neutral\", \"Anger\", \"Fear\", \"Surprise\"]\n",
    "SER_labels =['Neutral', 'Calm', 'Happiness', 'Sadness', 'Anger', 'Fear', 'Disgust', 'Surprise']\n",
    "SER_to_emotion_mapping = {4: 0, 5: 1, 2: 2, 3: 3, 7: 4, 0: 5}\n",
    "\n",
    "\n",
    "reverse_mapping = {v: k for k, v in emotionMapping.items()}\n",
    "\n",
    "TextClasifiedLabels = {}\n",
    "SERClasifiedLabels = {}\n",
    "for i, label in enumerate(Textemotion_labels):\n",
    "    if label in reverse_mapping:\n",
    "        TextClasifiedLabels[i] = int(reverse_mapping[label])  # map old index to new index\n",
    "        \n",
    "for i, label in enumerate(SER_labels):\n",
    "    if label in reverse_mapping:\n",
    "        SERClasifiedLabels[i] = int(reverse_mapping[label])  # map old index to new index\n",
    "\n",
    "print(\"Mapped Text label indices:\", TextClasifiedLabels)\n",
    "print(\"Mapped SER label indices:\", SERClasifiedLabels)"
   ]
  },
  {
   "cell_type": "code",
   "execution_count": 198,
   "id": "12e9a6eb",
   "metadata": {},
   "outputs": [
    {
     "name": "stdout",
     "output_type": "stream",
     "text": [
      "SER input shape:  (None, 335, 50)\n",
      "FER2013 input shape:  (None, 48, 48, 1)\n",
      "AffectNET input shape:  (None, 96, 96, 3)\n"
     ]
    },
    {
     "data": {
      "text/plain": [
       "RobertaForSequenceClassification(\n",
       "  (roberta): RobertaModel(\n",
       "    (embeddings): RobertaEmbeddings(\n",
       "      (word_embeddings): Embedding(50265, 768, padding_idx=1)\n",
       "      (position_embeddings): Embedding(514, 768, padding_idx=1)\n",
       "      (token_type_embeddings): Embedding(1, 768)\n",
       "      (LayerNorm): LayerNorm((768,), eps=1e-05, elementwise_affine=True)\n",
       "      (dropout): Dropout(p=0.1, inplace=False)\n",
       "    )\n",
       "    (encoder): RobertaEncoder(\n",
       "      (layer): ModuleList(\n",
       "        (0-5): 6 x RobertaLayer(\n",
       "          (attention): RobertaAttention(\n",
       "            (self): RobertaSdpaSelfAttention(\n",
       "              (query): Linear(in_features=768, out_features=768, bias=True)\n",
       "              (key): Linear(in_features=768, out_features=768, bias=True)\n",
       "              (value): Linear(in_features=768, out_features=768, bias=True)\n",
       "              (dropout): Dropout(p=0.1, inplace=False)\n",
       "            )\n",
       "            (output): RobertaSelfOutput(\n",
       "              (dense): Linear(in_features=768, out_features=768, bias=True)\n",
       "              (LayerNorm): LayerNorm((768,), eps=1e-05, elementwise_affine=True)\n",
       "              (dropout): Dropout(p=0.1, inplace=False)\n",
       "            )\n",
       "          )\n",
       "          (intermediate): RobertaIntermediate(\n",
       "            (dense): Linear(in_features=768, out_features=3072, bias=True)\n",
       "            (intermediate_act_fn): GELUActivation()\n",
       "          )\n",
       "          (output): RobertaOutput(\n",
       "            (dense): Linear(in_features=3072, out_features=768, bias=True)\n",
       "            (LayerNorm): LayerNorm((768,), eps=1e-05, elementwise_affine=True)\n",
       "            (dropout): Dropout(p=0.1, inplace=False)\n",
       "          )\n",
       "        )\n",
       "      )\n",
       "    )\n",
       "  )\n",
       "  (classifier): RobertaClassificationHead(\n",
       "    (dense): Linear(in_features=768, out_features=768, bias=True)\n",
       "    (dropout): Dropout(p=0.1, inplace=False)\n",
       "    (out_proj): Linear(in_features=768, out_features=7, bias=True)\n",
       "  )\n",
       ")"
      ]
     },
     "execution_count": 198,
     "metadata": {},
     "output_type": "execute_result"
    }
   ],
   "source": [
    "print('SER input shape: ',SER.input_shape)\n",
    "print('FER2013 input shape: ',FER2013.input_shape)\n",
    "print('AffectNET input shape: ',AffectNET.input_shape)\n",
    "textModel.eval()"
   ]
  },
  {
   "cell_type": "markdown",
   "id": "e30a4a37",
   "metadata": {},
   "source": [
    "# Text Function"
   ]
  },
  {
   "cell_type": "code",
   "execution_count": 199,
   "id": "3ffa6b72",
   "metadata": {},
   "outputs": [],
   "source": [
    "def predict_emotion(model, text):\n",
    "\n",
    "    inputs = tokenizer(text, return_tensors=\"pt\", padding=True, truncation=True)\n",
    "\n",
    "    with torch.no_grad():\n",
    "        outputs = model(**inputs)\n",
    "        logits = outputs.logits\n",
    "        probs = torch.nn.functional.softmax(logits, dim=1)\n",
    "        predicted_class = torch.argmax(probs, dim=1).item()\n",
    "\n",
    "    predicted_emotion = Textemotion_labels[predicted_class]\n",
    "    return predicted_emotion,predicted_class, probs.numpy()\n"
   ]
  },
  {
   "cell_type": "markdown",
   "id": "044ce7d2",
   "metadata": {},
   "source": [
    "## Voice Preprocess"
   ]
  },
  {
   "cell_type": "code",
   "execution_count": 200,
   "id": "7e02659f",
   "metadata": {},
   "outputs": [],
   "source": [
    "def preprocess_audio_file(file_path, total_length=173056, target_sr=22050, top_db=30):\n",
    "    # Load using pydub (for normalization)\n",
    "    rawsound = AudioSegment.from_file(file_path)\n",
    "    normalized = effects.normalize(rawsound, headroom=5.0)\n",
    "    samples = np.array(normalized.get_array_of_samples(), dtype='float32')\n",
    "    max_val = float(2 ** (8 * rawsound.sample_width - 1))\n",
    "    samples = samples / max_val\n",
    "    \n",
    "    trimmed, _ = librosa.effects.trim(samples, top_db=top_db)\n",
    "    \n",
    "    if len(trimmed) < total_length:\n",
    "        padded = np.pad(trimmed, (0, total_length - len(trimmed)), mode='constant')\n",
    "    else:\n",
    "        padded = trimmed[:total_length]\n",
    "    \n",
    "    sr_orig = rawsound.frame_rate\n",
    "    if sr_orig != target_sr:\n",
    "        padded = librosa.resample(padded, orig_sr=sr_orig, target_sr=target_sr)\n",
    "        sr = target_sr\n",
    "    else:\n",
    "        sr = sr_orig\n",
    "    reduced = nr.reduce_noise(y=padded, sr=sr)\n",
    "    \n",
    "    return reduced, sr\n",
    "\n",
    "total_length = 173056\n",
    "frame_length = 2048\n",
    "hop_length = 512\n",
    "expected_frames = 1 + int((total_length - frame_length) / hop_length)\n",
    "\n",
    "def extract_features_fixed(signal, sr, frame_length=2048, hop_length=512, n_mfcc=13, expected_frames=expected_frames):\n",
    "    rms = librosa.feature.rms(y=signal, frame_length=frame_length, hop_length=hop_length)\n",
    "    zcr = librosa.feature.zero_crossing_rate(y=signal, frame_length=frame_length, hop_length=hop_length, center=True)\n",
    "    mfcc = librosa.feature.mfcc(y=signal, sr=sr, n_mfcc=n_mfcc, hop_length=hop_length)\n",
    "    mfcc_delta = librosa.feature.delta(mfcc)\n",
    "    mfcc_delta2 = librosa.feature.delta(mfcc, order=2)\n",
    "    \n",
    "    centroid = librosa.feature.spectral_centroid(y=signal, sr=sr, hop_length=hop_length)\n",
    "    contrast = librosa.feature.spectral_contrast(y=signal, sr=sr, hop_length=hop_length)\n",
    "    rolloff = librosa.feature.spectral_rolloff(y=signal, sr=sr, hop_length=hop_length)\n",
    "    \n",
    "    features = np.vstack((zcr, rms, mfcc, mfcc_delta, mfcc_delta2, centroid, contrast, rolloff)).T\n",
    "    current_frames = features.shape[0]\n",
    "    \n",
    "    if current_frames < expected_frames:\n",
    "        pad_width = expected_frames - current_frames\n",
    "        features = np.pad(features, ((0, pad_width), (0, 0)), mode='constant')\n",
    "    elif current_frames > expected_frames:\n",
    "        features = features[:expected_frames, :] \n",
    "    return features\n",
    "\n",
    "def PredictSER(model, file_path, total_length=173056, target_sr=22050, top_db=30,frame_length=2048, hop_length=512, n_mfcc=13, expected_frames=335):  \n",
    "    # Preprocess the audio file\n",
    "    signal, sr = preprocess_audio_file(file_path, total_length=total_length, target_sr=target_sr, top_db=top_db)\n",
    "    \n",
    "    # Extract features with fixed number of frames\n",
    "    features = extract_features_fixed(signal, sr, frame_length=frame_length, hop_length=hop_length, n_mfcc=n_mfcc, expected_frames=expected_frames)\n",
    "\n",
    "    X_input = np.expand_dims(features, axis=0)\n",
    "    predictions = model.predict(X_input)\n",
    "    \n",
    "    # Map predicted index to emotion\n",
    "    predicted_class = np.argmax(predictions, axis=1)[0]\n",
    "    emotion_map = {0: 'Neutral', 1: 'Calm', 2: 'Happiness', 3: 'Sadness', 4: 'Angry', 5: 'Fear', 6: 'Disgust', 7: 'Surprise'}\n",
    "    predicted_emotion = emotion_map.get(predicted_class, \"Unknown\")\n",
    "    \n",
    "    return predictions, predicted_emotion"
   ]
  },
  {
   "cell_type": "markdown",
   "id": "f2155e12",
   "metadata": {},
   "source": [
    "# FER Function"
   ]
  },
  {
   "cell_type": "code",
   "execution_count": 201,
   "id": "eafadfbc",
   "metadata": {},
   "outputs": [],
   "source": [
    "def fer2013inputshape(img):\n",
    "    img = cv2.resize(img, (48, 48))\n",
    "    img = cv2.cvtColor(img, cv2.COLOR_BGR2GRAY)\n",
    "    img = np.expand_dims(img, axis=-1)\n",
    "    img = np.expand_dims(img, axis=0)\n",
    "    return img"
   ]
  },
  {
   "cell_type": "markdown",
   "id": "888d7600",
   "metadata": {},
   "source": [
    "# AffectNet Function"
   ]
  },
  {
   "cell_type": "code",
   "execution_count": 202,
   "id": "fa3450ee",
   "metadata": {},
   "outputs": [],
   "source": [
    "def AffectNetinputshape(img):\n",
    "    img = cv2.resize(img, (96, 96))\n",
    "    img = cv2.cvtColor(img, cv2.COLOR_BGR2RGB)\n",
    "    img = np.expand_dims(img, axis=-1)\n",
    "    img = np.expand_dims(img, axis=0)\n",
    "    return img"
   ]
  },
  {
   "cell_type": "code",
   "execution_count": 203,
   "id": "3f7332d3",
   "metadata": {},
   "outputs": [],
   "source": [
    "def SERinputshape(wav):\n",
    "    wav = np.pad(wav, (0, 335-len(wav)), 'constant', constant_values=(0, 0))\n",
    "    wav = np.expand_dims(wav, axis=-1)\n",
    "    wav = np.expand_dims(wav, axis=0)\n",
    "    return wav"
   ]
  },
  {
   "cell_type": "code",
   "execution_count": 204,
   "id": "08586862",
   "metadata": {},
   "outputs": [],
   "source": [
    "FER2013img = fer2013inputshape(img)\n",
    "AffectNETimg = AffectNetinputshape(img)"
   ]
  },
  {
   "cell_type": "markdown",
   "id": "36b7031c",
   "metadata": {},
   "source": [
    "### RAW PREDICTIONS"
   ]
  },
  {
   "cell_type": "code",
   "execution_count": 205,
   "id": "b5bdea57",
   "metadata": {},
   "outputs": [
    {
     "name": "stdout",
     "output_type": "stream",
     "text": [
      "\u001b[1m1/1\u001b[0m \u001b[32m━━━━━━━━━━━━━━━━━━━━\u001b[0m\u001b[37m\u001b[0m \u001b[1m0s\u001b[0m 324ms/step\n",
      "\u001b[1m1/1\u001b[0m \u001b[32m━━━━━━━━━━━━━━━━━━━━\u001b[0m\u001b[37m\u001b[0m \u001b[1m0s\u001b[0m 262ms/step\n",
      "\u001b[1m1/1\u001b[0m \u001b[32m━━━━━━━━━━━━━━━━━━━━\u001b[0m\u001b[37m\u001b[0m \u001b[1m0s\u001b[0m 161ms/step\n",
      "FER2013 prediction:  [[0.49917305 0.10686404 0.20733239 0.02033958 0.01804267 0.14824827]]\n",
      "AffectNET prediction:  [[0.03042624 0.15741353 0.01259953 0.57219344 0.11132995 0.11603738]]\n",
      "Text prediction:  [5.0969154e-04 1.1051499e-03 6.9200998e-04 9.9651402e-01 8.5336313e-04\n",
      " 3.2578286e-04]\n",
      "SER prediction:  [6.7629060e-08 5.7915036e-06 6.3169034e-07 9.9999011e-01 9.9687381e-10\n",
      " 2.4821279e-06]\n"
     ]
    }
   ],
   "source": [
    "FER2013pred = FER2013.predict(FER2013img)\n",
    "AffectNETpred = AffectNET.predict(AffectNETimg)\n",
    "emotion, predclass,probs = predict_emotion(textModel,textInput)\n",
    "SERpredictions, SERpredicted_emotion = PredictSER(SER, voicePath)\n",
    "SERpredictions = SERpredictions.flatten()\n",
    "\n",
    "AffectNETpred = AffectNETpred\n",
    "FER2013pred = FER2013pred\n",
    "probs = probs[0, :6]\n",
    "\n",
    "reordered_preds = np.zeros_like(probs)\n",
    "reordered_predsSER = np.zeros_like(SERpredictions)\n",
    "\n",
    "for old_idx, new_idx in SERClasifiedLabels.items():\n",
    "    reordered_predsSER[new_idx] = SERpredictions[old_idx]\n",
    "\n",
    "for old_idx, new_idx in TextClasifiedLabels.items():\n",
    "    reordered_preds[new_idx] = probs[old_idx]\n",
    "\n",
    "SERpredictions = reordered_predsSER [0:6] \n",
    "probs = reordered_preds\n",
    "concPred = FER2013pred + AffectNETpred + probs + SERpredictions\n",
    "\n",
    "print('FER2013 prediction: ',FER2013pred)\n",
    "print('AffectNET prediction: ',AffectNETpred)\n",
    "print('Text prediction: ',probs)\n",
    "print('SER prediction: ',SERpredictions)\n"
   ]
  },
  {
   "cell_type": "markdown",
   "id": "2b0f1b7c",
   "metadata": {},
   "source": [
    "### Normalized PREDICTIONS"
   ]
  },
  {
   "cell_type": "code",
   "execution_count": 206,
   "id": "2827e602",
   "metadata": {},
   "outputs": [
    {
     "name": "stdout",
     "output_type": "stream",
     "text": [
      "Text Classified Emotion: Sadness\n",
      "FER2013 prediction:  Anger\n",
      "AffectNET prediction:  Sadness\n",
      "SER prediction:  Sadness\n"
     ]
    }
   ],
   "source": [
    "FER2013pred = np.argmax(FER2013pred, axis=1)\n",
    "AffectNETpred = np.argmax(AffectNETpred, axis=1)\n",
    "print('Text Classified Emotion:',emotionMapping[str(TextClasifiedLabels[predclass])])\n",
    "print('FER2013 prediction: ',emotionMapping[str(FER2013pred[0])])\n",
    "print('AffectNET prediction: ',emotionMapping[str(AffectNETpred[0])])\n",
    "print('SER prediction: ',SERpredicted_emotion)"
   ]
  },
  {
   "cell_type": "markdown",
   "id": "60949366",
   "metadata": {},
   "source": [
    "### Concatenated Predictions"
   ]
  },
  {
   "cell_type": "code",
   "execution_count": 209,
   "id": "6cc275d0",
   "metadata": {},
   "outputs": [
    {
     "name": "stdout",
     "output_type": "stream",
     "text": [
      "Final Prediction Class: [3]\n",
      "Raw Concatenated Predictions: [[0.13252728 0.06634714 0.05515615 0.6472594  0.0325565  0.06615348]]\n",
      "Final Prediction:  Sadness\n"
     ]
    }
   ],
   "source": [
    "finalPrediction = np.argmax(concPred, axis=1)\n",
    "concPred = concPred / np.sum(concPred)\n",
    "print(\"Final Prediction Class:\", finalPrediction)\n",
    "print(\"Raw Concatenated Predictions:\",concPred)\n",
    "print('Final Prediction: ',emotionMapping[str(finalPrediction[0])])"
   ]
  },
  {
   "cell_type": "code",
   "execution_count": null,
   "id": "9600bdef",
   "metadata": {},
   "outputs": [],
   "source": []
  }
 ],
 "metadata": {
  "kernelspec": {
   "display_name": "base",
   "language": "python",
   "name": "python3"
  },
  "language_info": {
   "codemirror_mode": {
    "name": "ipython",
    "version": 3
   },
   "file_extension": ".py",
   "mimetype": "text/x-python",
   "name": "python",
   "nbconvert_exporter": "python",
   "pygments_lexer": "ipython3",
   "version": "3.12.4"
  }
 },
 "nbformat": 4,
 "nbformat_minor": 5
}
